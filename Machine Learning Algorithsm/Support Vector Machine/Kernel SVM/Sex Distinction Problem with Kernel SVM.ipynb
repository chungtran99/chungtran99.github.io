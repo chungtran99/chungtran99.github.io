{
 "cells": [
  {
   "cell_type": "code",
   "execution_count": 3,
   "metadata": {},
   "outputs": [
    {
     "name": "stdout",
     "output_type": "stream",
     "text": [
      "Accuracy: 92.86 %\n"
     ]
    }
   ],
   "source": [
    "import scipy.io as sio\n",
    "from sklearn.svm import SVC\n",
    "from sklearn.metrics import accuracy_score\n",
    "\n",
    "# Load data\n",
    "A = sio.loadmat('myARgender.mat')\n",
    "X_train = A['Y_train'].T \n",
    "X_test = A['Y_test'].T \n",
    "N = 700\n",
    "y_train = A['label_train'].reshape(N)\n",
    "y_test = A['label_test'].reshape(N)\n",
    "\n",
    "# Use SVC with kernel 'poly' to train model\n",
    "clf = SVC(kernel='poly', degree = 3, gamma=1, C = 100)\n",
    "clf.fit(X_train, y_train)\n",
    "y_pred = clf.predict(X_test)\n",
    "print(\"Accuracy: %.2f %%\" %(100*accuracy_score(y_test, y_pred)))"
   ]
  },
  {
   "cell_type": "code",
   "execution_count": null,
   "metadata": {},
   "outputs": [],
   "source": []
  }
 ],
 "metadata": {
  "kernelspec": {
   "display_name": "Python 3",
   "language": "python",
   "name": "python3"
  },
  "language_info": {
   "codemirror_mode": {
    "name": "ipython",
    "version": 3
   },
   "file_extension": ".py",
   "mimetype": "text/x-python",
   "name": "python",
   "nbconvert_exporter": "python",
   "pygments_lexer": "ipython3",
   "version": "3.7.6"
  }
 },
 "nbformat": 4,
 "nbformat_minor": 4
}
