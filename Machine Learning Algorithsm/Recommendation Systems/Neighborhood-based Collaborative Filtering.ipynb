{
 "cells": [
  {
   "cell_type": "code",
   "execution_count": 29,
   "metadata": {},
   "outputs": [],
   "source": [
    "import pandas as pd\n",
    "import numpy as np\n",
    "from sklearn.metrics.pairwise import cosine_similarity\n",
    "from scipy import sparse\n",
    "\n",
    "class CF:\n",
    "    def __init__(self, Y_data, k, dist_func = cosine_similarity, uuCF = 1):\n",
    "        self.uuCF = uuCF # user-user (1) or item-item(0) CF\n",
    "        self.Y_data = Y_data if uuCF == 1 else Y_data[:, [1,0,2]]\n",
    "        self.k = k # number of neighbor points\n",
    "        self.dist_func = dist_func\n",
    "        self.Ybar_data = None\n",
    "        self.n_users = int(np.max(self.Y_data[:, 0])) + 1\n",
    "        self.n_items = int(np.max(self.Y_data[:, 1])) + 1\n",
    "        \n",
    "    def add(self, new_data):\n",
    "        self.Y_data = np.concatenate((self.Y_data, new_data), axis = 0)\n",
    "        \n",
    "    def normalize_Y(self):\n",
    "        users = self.Y_data[:, 0]\n",
    "        self.Ybar_data = self.Y_data.copy()\n",
    "        self.mu = np.zeros((self.n_users,)) # mean rating of 1 user\n",
    "        for n in range(self.n_users):\n",
    "            ids = np.where(users == n)[0].astype(np.int32)\n",
    "            item_ids = self.Y_data[ids, 1]\n",
    "            ratings = self.Y_data[ids, 2]\n",
    "            m = np.mean(ratings)\n",
    "            if np.isnan(m):\n",
    "                m = 0\n",
    "            self.mu[n] = m\n",
    "            self.Ybar_data[ids, 2] = ratings - self.mu[n]\n",
    "            \n",
    "            self.Ybar = sparse.coo_matrix((self.Ybar_data[:, 2],\n",
    "                    (self.Ybar_data[:,1], self.Ybar_data[:,0])),\n",
    "                    (self.n_items, self.n_users)).tocsr()\n",
    "    \n",
    "    def similarity(self):\n",
    "        self.S = self.dist_func(self.Ybar.T, self.Ybar.T)\n",
    "        \n",
    "    def refresh(self):\n",
    "        self.normalize_Y()\n",
    "        self.similarity()\n",
    "        \n",
    "    def fit(self):\n",
    "        self.refresh()\n",
    "    \n",
    "    def __pred(self, u, i, normalized = 1):\n",
    "        # Predict the rating of user u for item i\n",
    "        # Step 1: find all users who rated i\n",
    "        ids = np.where(self.Y_data[:, 1] == i)[0].astype(np.int32)\n",
    "        users_rated_i = (self.Y_data[ids, 0]).astype(np.int32)\n",
    "        \n",
    "        # Step 2: find the similarity between the current users and the \n",
    "        # users who already rated i\n",
    "        sim = self.S[u, users_rated_i]\n",
    "        \n",
    "        # Step 3: find the k most similar users and the corresponding similarity levels\n",
    "        a = np.argsort(sim)[-self.k:]\n",
    "        nearest_s = sim[a]\n",
    "        r = self.Ybar[i, users_rated_i[a]]\n",
    "        \n",
    "        if normalized != 1:\n",
    "            return (r*nearest_s).sum()/(np.abs(nearest_s).sum() + 1e-8)\n",
    "        return (r*nearest_s).sum()/(np.abs(nearest_s).sum() + 1e-8) + self.mu[u]\n",
    "    \n",
    "    def pred(self, u, i, normalized = 1):\n",
    "        if self.uuCF: return self.__pred(u, i, normalized)\n",
    "        return self.__pred(i, u, normalized)\n",
    "    \n",
    "    def recommend(self, u, normalized = 1):\n",
    "        ids = np.where(self.Y_data[:,0] == u)[0]\n",
    "        items_rated_by_u = self.Y_data[ids, 1].tolist()\n",
    "        recommended_items = []\n",
    "        for i in range(self.n_items):\n",
    "            if i not in items_rated_by_u:\n",
    "                rating = self.__pred(u, i)\n",
    "                if rating > 0:\n",
    "                    recommended_items.append(i)\n",
    "        return recommended_items\n",
    "    \n",
    "    def print_recommendation(self):\n",
    "        \"\"\"\n",
    "        print all items which should be recommended for each user \n",
    "        \"\"\"\n",
    "        print('Recommendation: ')\n",
    "        for u in range(self.n_users):\n",
    "            recommended_items = self.recommend(u)\n",
    "            if self.uuCF:\n",
    "                print('    Recommend item(s):', recommended_items, 'to user', u)\n",
    "            else: \n",
    "                print('    Recommend item', u, 'to user(s) : ', recommended_items)"
   ]
  },
  {
   "cell_type": "code",
   "execution_count": 30,
   "metadata": {},
   "outputs": [
    {
     "name": "stdout",
     "output_type": "stream",
     "text": [
      "Recommendation: \n",
      "    Recommend item(s): [2] to user 0\n",
      "    Recommend item(s): [1] to user 1\n",
      "    Recommend item(s): [1] to user 2\n",
      "    Recommend item(s): [4] to user 3\n",
      "    Recommend item(s): [1, 2, 4] to user 4\n",
      "    Recommend item(s): [0, 3, 4] to user 5\n",
      "    Recommend item(s): [0, 1] to user 6\n"
     ]
    }
   ],
   "source": [
    "# data file \n",
    "r_cols = ['user_id', 'item_id', 'rating']\n",
    "ratings = pd.read_csv('ex.dat', sep = ' ', names = r_cols, encoding='latin-1')\n",
    "Y_data = ratings.values\n",
    "\n",
    "rs = CF(Y_data, k = 2, uuCF = 1)\n",
    "rs.fit()\n",
    "\n",
    "rs.print_recommendation()"
   ]
  },
  {
   "cell_type": "code",
   "execution_count": 31,
   "metadata": {},
   "outputs": [
    {
     "name": "stdout",
     "output_type": "stream",
     "text": [
      "Recommendation: \n",
      "    Recommend item 0 to user(s) :  [5, 6]\n",
      "    Recommend item 1 to user(s) :  [1, 2, 4]\n",
      "    Recommend item 2 to user(s) :  [0, 4]\n",
      "    Recommend item 3 to user(s) :  [5]\n",
      "    Recommend item 4 to user(s) :  [3, 4, 5]\n"
     ]
    }
   ],
   "source": [
    "rs = CF(Y_data, k = 2, uuCF = 0)\n",
    "rs.fit()\n",
    "\n",
    "rs.print_recommendation()"
   ]
  },
  {
   "cell_type": "code",
   "execution_count": 32,
   "metadata": {},
   "outputs": [],
   "source": [
    "# MovieLens\n",
    "r_cols = ['user_id', 'movie_id', 'rating', 'unix_timestamp']\n",
    "\n",
    "ratings_base = pd.read_csv('ml-100k/ub.base', sep='\\t', names=r_cols, encoding='latin-1')\n",
    "ratings_test = pd.read_csv('ml-100k/ub.test', sep='\\t', names=r_cols, encoding='latin-1')\n",
    "\n",
    "rate_train = ratings_base.values\n",
    "rate_test = ratings_test.values\n",
    "\n",
    "# indices start from 0\n",
    "rate_train[:, :2] -= 1\n",
    "rate_test[:, :2] -= 1"
   ]
  },
  {
   "cell_type": "code",
   "execution_count": 34,
   "metadata": {},
   "outputs": [
    {
     "name": "stdout",
     "output_type": "stream",
     "text": [
      "User-user CF, RMSE = 0.9951981100882598\n"
     ]
    }
   ],
   "source": [
    "rs = CF(rate_train, k = 30, uuCF = 1)\n",
    "rs.fit()\n",
    "\n",
    "n_tests = rate_test.shape[0]\n",
    "SE = 0 # squared error\n",
    "for n in range(n_tests):\n",
    "    pred = rs.pred(rate_test[n, 0], rate_test[n, 1], normalized = 1)\n",
    "    SE += (pred - rate_test[n, 2])**2 \n",
    "\n",
    "RMSE = np.sqrt(SE/n_tests)\n",
    "print('User-user CF, RMSE =', RMSE)"
   ]
  },
  {
   "cell_type": "code",
   "execution_count": 35,
   "metadata": {},
   "outputs": [
    {
     "name": "stderr",
     "output_type": "stream",
     "text": [
      "C:\\Users\\My Laptop\\anaconda3\\lib\\site-packages\\numpy\\core\\fromnumeric.py:3335: RuntimeWarning: Mean of empty slice.\n",
      "  out=out, **kwargs)\n",
      "C:\\Users\\My Laptop\\anaconda3\\lib\\site-packages\\numpy\\core\\_methods.py:161: RuntimeWarning: invalid value encountered in double_scalars\n",
      "  ret = ret.dtype.type(ret / rcount)\n"
     ]
    },
    {
     "name": "stdout",
     "output_type": "stream",
     "text": [
      "User-user CF, RMSE = 0.9867912132705384\n"
     ]
    }
   ],
   "source": [
    "rs = CF(rate_train, k = 30, uuCF = 0)\n",
    "rs.fit()\n",
    "\n",
    "n_tests = rate_test.shape[0]\n",
    "SE = 0 # squared error\n",
    "for n in range(n_tests):\n",
    "    pred = rs.pred(rate_test[n, 0], rate_test[n, 1], normalized = 1)\n",
    "    SE += (pred - rate_test[n, 2])**2 \n",
    "\n",
    "RMSE = np.sqrt(SE/n_tests)\n",
    "print('User-user CF, RMSE =', RMSE)"
   ]
  },
  {
   "cell_type": "code",
   "execution_count": null,
   "metadata": {},
   "outputs": [],
   "source": []
  }
 ],
 "metadata": {
  "kernelspec": {
   "display_name": "Python 3",
   "language": "python",
   "name": "python3"
  },
  "language_info": {
   "codemirror_mode": {
    "name": "ipython",
    "version": 3
   },
   "file_extension": ".py",
   "mimetype": "text/x-python",
   "name": "python",
   "nbconvert_exporter": "python",
   "pygments_lexer": "ipython3",
   "version": "3.7.6"
  }
 },
 "nbformat": 4,
 "nbformat_minor": 4
}
