{
 "cells": [
  {
   "cell_type": "code",
   "execution_count": 1,
   "metadata": {},
   "outputs": [],
   "source": [
    "import cv2\n",
    "import math\n",
    "import random\n",
    "import numpy as np"
   ]
  },
  {
   "cell_type": "code",
   "execution_count": 2,
   "metadata": {},
   "outputs": [],
   "source": [
    "def drawText(image, txt):\n",
    "    font = cv2.FONT_HERSHEY_SIMPLEX\n",
    "    org = (50, 50)\n",
    "    fontScale = 1\n",
    "    color = (255, 0, 0) # in BGR\n",
    "    thickness = 2\n",
    "    image = cv2.putText(image, txt, org, font, fontScale, color, thickness, cv2. LINE_AA)"
   ]
  },
  {
   "cell_type": "code",
   "execution_count": 3,
   "metadata": {},
   "outputs": [],
   "source": [
    "def distance(p1, p2):\n",
    "    dist = math.sqrt((p1[0] - p2[0]) ** 2 + (p1[1] - p2[1]) ** 2)\n",
    "    return dist"
   ]
  },
  {
   "cell_type": "code",
   "execution_count": 4,
   "metadata": {},
   "outputs": [],
   "source": [
    "def sort_contours(cnts, method = 'left_to_right'):\n",
    "    reverse = False\n",
    "    i = 0\n",
    "    if method == 'right_to_left' or method == 'bottom_to_top':\n",
    "        reverse = True\n",
    "    \n",
    "    # handle the y-coordinate\n",
    "    if method == 'top_to_bottom' or method == 'bottom_to_top':\n",
    "        i = 1\n",
    "    \n",
    "    # construct the list of bounding boxes and sort them from top to bottom\n",
    "    boundingBoxes = [cv2.boundingRect(c) for c in cnts]\n",
    "    \n",
    "    cnts = [cnts for cnts, boundingBoxes in sorted(zip(cnts, boundingBoxes), key = lambda b:b[1][i], reverse = reverse)]\n",
    "    \n",
    "    return cnts"
   ]
  },
  {
   "cell_type": "code",
   "execution_count": 5,
   "metadata": {},
   "outputs": [],
   "source": [
    "def order_points(pts):\n",
    "    rect = np.zeros((4,2), dtype = 'float32')\n",
    "    \n",
    "    s = np.sum(pts, axis = 1)\n",
    "    rect[0] = pts[np.argmin(s)]\n",
    "    rect[2] = pts[np.argmax(s)]\n",
    "    \n",
    "    diff = np.diff(pts, axis = 1)\n",
    "    rect[1] = pts[np.argmin(diff)]\n",
    "    rect[3] = pts[np.argmax(diff)]\n",
    "    \n",
    "    return rect"
   ]
  },
  {
   "cell_type": "code",
   "execution_count": 6,
   "metadata": {},
   "outputs": [],
   "source": [
    "def four_points_transform(image, pts):\n",
    "    rect = order_points(pts)\n",
    "    (tl, tr, br, bl) = rect\n",
    "    \n",
    "    widthA = np.sqrt(((br[0] - bl[0]) ** 2) + ((br[1] - bl[1]) ** 2))\n",
    "    widthB = np.sqrt(((tr[0] - tl[0]) ** 2) + ((tr[1] - tl[1]) ** 2))\n",
    "    width = max(int(widthA), int(widthB))\n",
    "    \n",
    "    heightA = np.sqrt(((tr[0] - br[0]) ** 2) + ((tr[1] - br[1]) ** 2))\n",
    "    heightB = np.sqrt(((tl[0] - bl[0]) ** 2) + ((tl[1] - bl[1]) ** 2))\n",
    "    height = max(int(heightA), int(heightB))\n",
    "    dst = np.array([[0,0],\n",
    "                   [width-1, 0],\n",
    "                   [width-1, height-1],\n",
    "                   [0, height-1]], dtype = 'float32')\n",
    "    \n",
    "    m = cv2.getPerspectiveTransform(rect, dst)\n",
    "    warped = cv2.warpPerspective(image, m, (width, height))\n",
    "    \n",
    "    return warped"
   ]
  },
  {
   "cell_type": "code",
   "execution_count": 7,
   "metadata": {},
   "outputs": [],
   "source": [
    "def find_corner_by_rotated_rect(box, approx):\n",
    "    corner = []\n",
    "    for p_box in box:\n",
    "        min_dist = 999999999\n",
    "        min_p = None\n",
    "        for p in approx:\n",
    "            dist = distance(p_box, p[0])\n",
    "            if dist < min_dist:\n",
    "                min_dist = dist\n",
    "                min_p = p[0]\n",
    "        corner.append(min_p)\n",
    "    corner = np.array(corner)\n",
    "    return corner"
   ]
  },
  {
   "cell_type": "code",
   "execution_count": 8,
   "metadata": {},
   "outputs": [],
   "source": [
    "# 1. Load image\n",
    "image = cv2.imread('test.png')\n",
    "gray = cv2.cvtColor(image, cv2.COLOR_BGR2GRAY)\n",
    "blurred = cv2.GaussianBlur(gray, (5, 5), 0)"
   ]
  },
  {
   "cell_type": "code",
   "execution_count": 9,
   "metadata": {},
   "outputs": [
    {
     "data": {
      "text/plain": [
       "-1"
      ]
     },
     "execution_count": 9,
     "metadata": {},
     "output_type": "execute_result"
    }
   ],
   "source": [
    "# 2. Threshold\n",
    "thresh = cv2.adaptiveThreshold(blurred, 255, cv2.ADAPTIVE_THRESH_GAUSSIAN_C, cv2.THRESH_BINARY_INV, 31, 3)\n",
    "cv2.imshow('2. Threshold', thresh)\n",
    "cv2.imwrite('Step 2.jpg', thresh)\n",
    "cv2.waitKey()"
   ]
  },
  {
   "cell_type": "code",
   "execution_count": 10,
   "metadata": {},
   "outputs": [],
   "source": [
    "# 3. Find the outer frame\n",
    "contours, hierarchy = cv2.findContours(thresh, cv2.RETR_LIST, cv2.CHAIN_APPROX_SIMPLE)\n",
    "contours = sorted(contours, key=lambda x: cv2.contourArea(x),reverse=True)\n",
    "approx = cv2.approxPolyDP(contours[1], 0.01 * cv2.arcLength(contours[1], True), True)\n",
    "rect = cv2.minAreaRect(contours[1])\n",
    "box = cv2.boxPoints(rect)"
   ]
  },
  {
   "cell_type": "code",
   "execution_count": 11,
   "metadata": {},
   "outputs": [
    {
     "data": {
      "text/plain": [
       "-1"
      ]
     },
     "execution_count": 11,
     "metadata": {},
     "output_type": "execute_result"
    }
   ],
   "source": [
    "# 4. Realize transform\n",
    "corner = find_corner_by_rotated_rect(box,approx)\n",
    "image = four_points_transform(image,corner)\n",
    "wrap = four_points_transform(thresh,corner)\n",
    "cv2.imshow('After step 4', wrap)\n",
    "cv2.imwrite('Step 4.jpg', wrap)\n",
    "cv2.waitKey()"
   ]
  },
  {
   "cell_type": "code",
   "execution_count": 12,
   "metadata": {},
   "outputs": [],
   "source": [
    "# 5. Find the ticks\n",
    "contours, _ = cv2.findContours(wrap, cv2.RETR_EXTERNAL, cv2.CHAIN_APPROX_SIMPLE)\n",
    "tickcontours = []\n",
    "\n",
    "for c in contours:\n",
    "    (x, y, w, h) = cv2.boundingRect(c)\n",
    "    ar = w/float(h)\n",
    "    if w >= 30 and h >= 30 and 0.8 <= ar <= 1.2:\n",
    "        tickcontours.append(c)"
   ]
  },
  {
   "cell_type": "code",
   "execution_count": 13,
   "metadata": {},
   "outputs": [
    {
     "data": {
      "text/plain": [
       "-1"
      ]
     },
     "execution_count": 13,
     "metadata": {},
     "output_type": "execute_result"
    }
   ],
   "source": [
    "# 6. Compare with answers\n",
    "right_answers = {0:1, 1:4, 2:0, 3:3, 4:1, 5:1, 6:0, 7:4}\n",
    "\n",
    "tickcontours = sort_contours(tickcontours, method='top_to_bottom')\n",
    "\n",
    "correct = 0\n",
    "\n",
    "for (q, i) in enumerate(np.arange(0, len(tickcontours), 5)):\n",
    "    color = (random.randint(0, 255), random.randint(0, 255), random.randint(0 , 255))\n",
    "    cnts = sort_contours(tickcontours[i:i + 5])\n",
    "    #cv2.drawContours(image, cnts, -1, color, 3)\n",
    "    choice = (0,0)\n",
    "    total = 0\n",
    "    \n",
    "    for (j, c) in enumerate(cnts):\n",
    "        # Create a mask to see the colored level of the contour\n",
    "        mask = np.zeros(wrap.shape, dtype=\"uint8\")\n",
    "        cv2.drawContours(mask, [c], -1, 255, -1)\n",
    "        mask = cv2.bitwise_and(wrap, wrap, mask=mask)\n",
    "        total = cv2.countNonZero(mask)\n",
    "\n",
    "        if total > choice[0]:\n",
    "            choice = (total, j)\n",
    "\n",
    "    current_right = right_answers[q]\n",
    " \n",
    "    if current_right == choice[1]:\n",
    "        color = (0, 255, 0)\n",
    "        correct += 1\n",
    "    else:\n",
    "        color = (0, 0, 255)\n",
    "    cv2.drawContours(image, [cnts[current_right]], -1, color, 3)\n",
    "\n",
    "    \n",
    "drawText(image, 'Correct:' + str(correct))\n",
    "\n",
    "cv2.imshow('Final', image)\n",
    "cv2.imwrite('Final.jpg', image)\n",
    "cv2.waitKey()"
   ]
  },
  {
   "cell_type": "code",
   "execution_count": null,
   "metadata": {},
   "outputs": [],
   "source": []
  }
 ],
 "metadata": {
  "kernelspec": {
   "display_name": "Python 3",
   "language": "python",
   "name": "python3"
  },
  "language_info": {
   "codemirror_mode": {
    "name": "ipython",
    "version": 3
   },
   "file_extension": ".py",
   "mimetype": "text/x-python",
   "name": "python",
   "nbconvert_exporter": "python",
   "pygments_lexer": "ipython3",
   "version": "3.7.6"
  }
 },
 "nbformat": 4,
 "nbformat_minor": 4
}
