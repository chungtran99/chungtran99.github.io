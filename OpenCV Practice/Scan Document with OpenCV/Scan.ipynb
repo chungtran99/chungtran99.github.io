{
 "cells": [
  {
   "cell_type": "code",
   "execution_count": 1,
   "metadata": {},
   "outputs": [],
   "source": [
    "import cv2"
   ]
  },
  {
   "cell_type": "code",
   "execution_count": 2,
   "metadata": {},
   "outputs": [
    {
     "data": {
      "text/plain": [
       "-1"
      ]
     },
     "execution_count": 2,
     "metadata": {},
     "output_type": "execute_result"
    }
   ],
   "source": [
    "# Name of image file\n",
    "input_image = 'mydoc.jpg'\n",
    "\n",
    "# Read image\n",
    "image = cv2.imread(input_image)\n",
    "\n",
    "# Show image \n",
    "cv2.imshow('Input', image)\n",
    "cv2.waitKey()"
   ]
  },
  {
   "cell_type": "code",
   "execution_count": 3,
   "metadata": {},
   "outputs": [
    {
     "data": {
      "text/plain": [
       "-1"
      ]
     },
     "execution_count": 3,
     "metadata": {},
     "output_type": "execute_result"
    }
   ],
   "source": [
    "# Change image to gray\n",
    "gray = cv2.cvtColor(image, cv2.COLOR_BGR2GRAY)\n",
    "\n",
    "# Blur the image to erase noise\n",
    "blur = cv2.blur(gray, (3, 3))\n",
    "\n",
    "# Find edges with Canny\n",
    "edge = cv2.Canny(blur, 50, 300, 3)\n",
    "\n",
    "# Show on screen\n",
    "cv2.imshow('gray', gray)\n",
    "cv2.imshow('blur', blur)\n",
    "cv2.imshow('edge', edge)\n",
    "cv2.waitKey()"
   ]
  },
  {
   "cell_type": "code",
   "execution_count": 4,
   "metadata": {},
   "outputs": [
    {
     "data": {
      "text/plain": [
       "-1"
      ]
     },
     "execution_count": 4,
     "metadata": {},
     "output_type": "execute_result"
    }
   ],
   "source": [
    "# Find contours\n",
    "cnts = cv2.findContours(edge, cv2.RETR_LIST, cv2.CHAIN_APPROX_SIMPLE)\n",
    "\n",
    "import imutils\n",
    "\n",
    "cnts = imutils.grab_contours(cnts)\n",
    "\n",
    "# Arrange in decreasing-area order\n",
    "cnts = sorted(cnts, key = cv2.contourArea, reverse = True)\n",
    "\n",
    "# Take the 1st contour - the biggest\n",
    "cnts = cnts[:1]\n",
    "\n",
    "# Draw contour on orginal image\n",
    "p = cv2.arcLength(cnts[0], True)\n",
    "r = cv2.approxPolyDP(cnts[0], 0.02*p, True)\n",
    "cv2.drawContours(image, [r], -1, (0, 0, 255), 3)\n",
    "\n",
    "# Show image\n",
    "cv2.imshow('Draw', image)\n",
    "cv2.waitKey()"
   ]
  },
  {
   "cell_type": "code",
   "execution_count": 5,
   "metadata": {},
   "outputs": [
    {
     "data": {
      "text/plain": [
       "-1"
      ]
     },
     "execution_count": 5,
     "metadata": {},
     "output_type": "execute_result"
    }
   ],
   "source": [
    "# Reshape ROI into (4,2) \n",
    "r = r.reshape(4,2)\n",
    " \n",
    "# Calculate 4 corners: top left, top right, bottem right, bottom left\n",
    "import numpy as np\n",
    "rect = np.zeros((4,2), dtype='float32')\n",
    " \n",
    "# Calculate sum for each columns\n",
    "# top left corner has the smallest sum\n",
    "# bottom right corner has the biggest sum\n",
    "s = np.sum(r, axis=1)\n",
    "rect[0] = r[np.argmin(s)] # top left\n",
    "rect[2] = r[np.argmax(s)] # bottom right\n",
    " \n",
    "# Calculate difference for each columns\n",
    "# top right corner has the smallest diff\n",
    "# bottom left corner has the biggest diff\n",
    "diff = np.diff(r, axis=1)\n",
    "rect[1] = r[np.argmin(diff)]\n",
    "rect[3] = r[np.argmax(diff)]\n",
    " \n",
    "# Calculate height and width of the doc\n",
    "(tl, tr, br, bl) = rect\n",
    " \n",
    "width1 = np.sqrt((tl[0] - tr[0])**2 + (tl[1] - tr[1])**2 )\n",
    "width2 = np.sqrt((bl[0] - br[0])**2 + (bl[1] - br[1])**2 )\n",
    "Width = max(int(width1), int(width2))\n",
    " \n",
    "height1 = np.sqrt((tl[0] - bl[0])**2 + (tl[1] - bl[1])**2 )\n",
    "height2 = np.sqrt((tr[0] - br[0])**2 + (tr[1] - br[1])**2 )\n",
    "Height = max(int(height1), int(height2))\n",
    " \n",
    "# New coordination of the doc\n",
    "new_rect = np.array([[0,0],[Width-1, 0],[Width-1, Height-1],[0, Height-1]], dtype=\"float32\")\n",
    " \n",
    "# Calculate transform matrix\n",
    "M = cv2.getPerspectiveTransform(rect, new_rect)\n",
    " \n",
    "# Rotate and crop\n",
    "output = cv2.warpPerspective(image, M, (Width, Height))\n",
    " \n",
    "# Show image\n",
    "cv2.imshow('Output',output)\n",
    "cv2.waitKey()"
   ]
  },
  {
   "cell_type": "code",
   "execution_count": 6,
   "metadata": {},
   "outputs": [
    {
     "data": {
      "text/plain": [
       "-1"
      ]
     },
     "execution_count": 6,
     "metadata": {},
     "output_type": "execute_result"
    }
   ],
   "source": [
    "# Turn into gray\n",
    "gray = cv2.cvtColor(output, cv2.COLOR_BGR2GRAY)\n",
    " \n",
    "# Use threshold\n",
    " \n",
    "_, output_final = cv2.threshold(gray,200,455,cv2.THRESH_BINARY)\n",
    " \n",
    "# Show image\n",
    "cv2.imshow('Output', output_final)\n",
    "cv2.imwrite('result.jpg', output_final)\n",
    "cv2.waitKey()"
   ]
  },
  {
   "cell_type": "code",
   "execution_count": null,
   "metadata": {},
   "outputs": [],
   "source": []
  }
 ],
 "metadata": {
  "kernelspec": {
   "display_name": "Python 3",
   "language": "python",
   "name": "python3"
  },
  "language_info": {
   "codemirror_mode": {
    "name": "ipython",
    "version": 3
   },
   "file_extension": ".py",
   "mimetype": "text/x-python",
   "name": "python",
   "nbconvert_exporter": "python",
   "pygments_lexer": "ipython3",
   "version": "3.7.6"
  }
 },
 "nbformat": 4,
 "nbformat_minor": 4
}
