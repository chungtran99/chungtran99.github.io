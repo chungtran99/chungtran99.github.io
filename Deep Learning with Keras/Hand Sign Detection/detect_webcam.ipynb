{
 "cells": [
  {
   "cell_type": "code",
   "execution_count": 1,
   "metadata": {},
   "outputs": [],
   "source": [
    "import cv2\n",
    "import numpy as np\n",
    "from tensorflow.keras.models import load_model"
   ]
  },
  {
   "cell_type": "code",
   "execution_count": 2,
   "metadata": {},
   "outputs": [],
   "source": [
    "prediction = ''\n",
    "score = 0\n",
    "bgModel = None"
   ]
  },
  {
   "cell_type": "code",
   "execution_count": 3,
   "metadata": {},
   "outputs": [],
   "source": [
    "gesture_names = {0: 'fist',\n",
    "                1: 'L',\n",
    "                2: 'okay',\n",
    "                3: 'peace',\n",
    "                4: 'palm'}"
   ]
  },
  {
   "cell_type": "code",
   "execution_count": 4,
   "metadata": {},
   "outputs": [
    {
     "name": "stdout",
     "output_type": "stream",
     "text": [
      "WARNING:tensorflow:From C:\\Users\\My Laptop\\AppData\\Roaming\\Python\\Python37\\site-packages\\tensorflow_core\\python\\ops\\resource_variable_ops.py:1630: calling BaseResourceVariable.__init__ (from tensorflow.python.ops.resource_variable_ops) with constraint is deprecated and will be removed in a future version.\n",
      "Instructions for updating:\n",
      "If using Keras pass *_constraint arguments to layers.\n"
     ]
    }
   ],
   "source": [
    "model = load_model('mymodel.h5')"
   ]
  },
  {
   "cell_type": "code",
   "execution_count": 5,
   "metadata": {},
   "outputs": [],
   "source": [
    "def predict_vgg(image):\n",
    "    image = np.array(image, dtype = 'float32')\n",
    "    image /= 255\n",
    "    pred_array = model.predict(image)\n",
    "    sign = gesture_names[np.argmax(pred_array)]\n",
    "    score = float('%0.2f' % (max(pred_array[0])*100))\n",
    "    return sign, score"
   ]
  },
  {
   "cell_type": "code",
   "execution_count": 6,
   "metadata": {},
   "outputs": [],
   "source": [
    "def remove_background(frame):\n",
    "    fgmask = bgModel.apply(frame, learningRate=learningRate)\n",
    "    kernel = np.ones((3, 3), np.uint8)\n",
    "    fgmask = cv2.erode(fgmask, kernel, iterations=1)\n",
    "    res = cv2.bitwise_and(frame, frame, mask=fgmask)\n",
    "    return res"
   ]
  },
  {
   "cell_type": "code",
   "execution_count": 7,
   "metadata": {},
   "outputs": [],
   "source": [
    "cap_region_x_begin = 0.6\n",
    "cap_region_y_end  =  0.6\n",
    "\n",
    "# The threshold parameters\n",
    "threshold = 60\n",
    "blurValue = 41\n",
    "bgSubThreshold = 50\n",
    "learningRate = 0\n",
    "\n",
    "# Registration line\n",
    "predThreshold= 95\n",
    "\n",
    "isBgCaptured  =  0"
   ]
  },
  {
   "cell_type": "code",
   "execution_count": 8,
   "metadata": {},
   "outputs": [
    {
     "name": "stdout",
     "output_type": "stream",
     "text": [
      "Background captured\n",
      "Background captured\n",
      "Background captured\n",
      "Background reset\n",
      "Background captured\n"
     ]
    }
   ],
   "source": [
    "import time\n",
    "\n",
    "camera = cv2.VideoCapture(0)\n",
    "camera.set(10,200)\n",
    "camera.set(cv2.CAP_PROP_AUTO_EXPOSURE, 0.01)\n",
    "\n",
    "while camera.isOpened():\n",
    "    ret, frame = camera.read()\n",
    "    frame = cv2.bilateralFilter(frame, 5, 50, 100)\n",
    "    frame = cv2.flip(frame, 1)\n",
    "\n",
    "    cv2.rectangle(frame, (int(cap_region_x_begin * frame.shape[1]), 0),\n",
    "                  (frame.shape[1], int(cap_region_y_end * frame.shape[0])), (255, 0, 0), 2)\n",
    "\n",
    "    if isBgCaptured == 1:\n",
    "        img = remove_background(frame)\n",
    "\n",
    "        img = img[0:int(cap_region_y_end * frame.shape[0]),\n",
    "              int(cap_region_x_begin * frame.shape[1]):frame.shape[1]] \n",
    "\n",
    "        gray = cv2.cvtColor(img, cv2.COLOR_BGR2GRAY)\n",
    "        blur = cv2.GaussianBlur(gray, (blurValue, blurValue), 0)\n",
    "        #cv2.imshow('original1', cv2.resize(blur, dsize=None, fx=0.5, fy=0.5))\n",
    "        ret , thresh  =  cv2 . threshold ( blur , threshold , 255 , cv2 . THRESH_BINARY  +  cv2 . THRESH_OTSU )\n",
    "        #cv2.imshow('thresh', cv2.resize(thresh, dsize=None, fx=0.5, fy=0.5))\n",
    "\n",
    "        if (np.count_nonzero(thresh)/(thresh.shape[0]*thresh.shape[0])>0.2):\n",
    "            if (thresh is not None):\n",
    "                target = np.stack((thresh,)*3 , axis = - 1 )\n",
    "                target = cv2.resize(target, (224, 224))\n",
    "                target = target.reshape(1, 224, 224, 3)\n",
    "                sign, score = predict_vgg(target)\n",
    "\n",
    "                #print(sign, score)\n",
    "                if (score>=predThreshold):\n",
    "                    cv2.putText(frame, \"Sign: \" + sign, (20, 60), cv2.FONT_HERSHEY_SIMPLEX, 2,\n",
    "                                (255, 0, 0), 3, lineType=cv2.LINE_AA)\n",
    "    thresh = None\n",
    "\n",
    "    k = cv2.waitKey(10)\n",
    "    if  k == ord('q'):   \n",
    "        break\n",
    "    elif  k == ord('b'):\n",
    "        bgModel = cv2.createBackgroundSubtractorMOG2(0, bgSubThreshold)\n",
    "        isBgCaptured = 1\n",
    "        cv2.putText(frame, \"Background captured\", (20, 150), cv2.FONT_HERSHEY_SIMPLEX, 3,\n",
    "                    (0, 0, 255), 5, lineType=cv2.LINE_AA)\n",
    "        time.sleep(2)\n",
    "        print('Background captured')\n",
    "\n",
    "    elif  k  == ord('r'):\n",
    "\n",
    "        bgModel = None\n",
    "        isBgCaptured = 0\n",
    "        cv2.putText(frame, \"Background reset\", (20, 150), cv2.FONT_HERSHEY_SIMPLEX, 3,\n",
    "                    (0, 0, 255),10,lineType=cv2.LINE_AA)\n",
    "        print('Background reset')\n",
    "        time.sleep(1)\n",
    "\n",
    "\n",
    "    cv2.imshow('original', frame)\n",
    "\n",
    "\n",
    "cv2.destroyAllWindows()\n",
    "camera.release()"
   ]
  },
  {
   "cell_type": "code",
   "execution_count": null,
   "metadata": {},
   "outputs": [],
   "source": []
  }
 ],
 "metadata": {
  "kernelspec": {
   "display_name": "Python 3",
   "language": "python",
   "name": "python3"
  },
  "language_info": {
   "codemirror_mode": {
    "name": "ipython",
    "version": 3
   },
   "file_extension": ".py",
   "mimetype": "text/x-python",
   "name": "python",
   "nbconvert_exporter": "python",
   "pygments_lexer": "ipython3",
   "version": "3.7.6"
  }
 },
 "nbformat": 4,
 "nbformat_minor": 4
}
