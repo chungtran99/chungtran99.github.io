{
 "cells": [
  {
   "cell_type": "code",
   "execution_count": 3,
   "metadata": {},
   "outputs": [],
   "source": [
    "import pandas as pd\n",
    "import numpy as np\n",
    "import os\n",
    "import matplotlib.pyplot as plt\n",
    "%matplotlib inline\n",
    "\n",
    "from sklearn.model_selection import train_test_split\n",
    "\n",
    "import tensorflow as tf\n",
    "from tensorflow import keras\n",
    "from tensorflow.keras.models import Sequential\n",
    "from tensorflow.keras.callbacks import ModelCheckpoint\n",
    "from tensorflow.keras.layers import Conv2D, Lambda, Dropout, Dense, Flatten\n",
    "from tensorflow.keras.regularizers import l2\n",
    "\n",
    "from utils import INPUT_SHAPE, batch_generator"
   ]
  },
  {
   "cell_type": "code",
   "execution_count": 9,
   "metadata": {},
   "outputs": [
    {
     "data": {
      "text/plain": [
       "(array([   51.,   143.,   444.,   593.,   468., 11034.,    93.,    48.,\n",
       "           39.,    31.]),\n",
       " array([-1. , -0.8, -0.6, -0.4, -0.2,  0. ,  0.2,  0.4,  0.6,  0.8,  1. ]),\n",
       " <a list of 10 Patch objects>)"
      ]
     },
     "execution_count": 9,
     "metadata": {},
     "output_type": "execute_result"
    },
    {
     "data": {
      "image/png": "[encoded data removed]",
      "text/plain": [
       "<Figure size 432x288 with 1 Axes>"
      ]
     },
     "metadata": {
      "needs_background": "light"
     },
     "output_type": "display_data"
    }
   ],
   "source": [
    "# Read file driving_log.csv with corresponding columns\n",
    "data_df = pd.read_csv('driving_log.csv', names=['center', 'left', 'right', 'steering', 'throttle', 'reverse', 'speed'])\n",
    "\n",
    "# Take the access to center, left, right camera\n",
    "X = data_df[['center', 'left', 'right']].values\n",
    "# Take the steering angle\n",
    "y = data_df['steering'].values\n",
    "\n",
    "# Draw data histogram\n",
    "plt.hist(y)"
   ]
  },
  {
   "cell_type": "code",
   "execution_count": 10,
   "metadata": {},
   "outputs": [
    {
     "data": {
      "text/plain": [
       "(array([  51.,  143.,  444.,  593.,  468., 1106.,   93.,   48.,   39.,\n",
       "          31.]),\n",
       " array([-1. , -0.8, -0.6, -0.4, -0.2,  0. ,  0.2,  0.4,  0.6,  0.8,  1. ]),\n",
       " <a list of 10 Patch objects>)"
      ]
     },
     "execution_count": 10,
     "metadata": {},
     "output_type": "execute_result"
    },
    {
     "data": {
      "image/png": "[encoded data removed]",
      "text/plain": [
       "<Figure size 432x288 with 1 Axes>"
      ]
     },
     "metadata": {
      "needs_background": "light"
     },
     "output_type": "display_data"
    }
   ],
   "source": [
    "# Eliminate and take only 1000 data at angle 0\n",
    "pos_zero = np.array(np.where(y==0)).reshape(-1,1)\n",
    "pos_non_zero = np.array(np.where(y!=0)).reshape(-1,1)\n",
    "np.random.shuffle(pos_zero)\n",
    "pos_zero = pos_zero[:1000]\n",
    "\n",
    "pos_combined = np.vstack((pos_zero, pos_non_zero))\n",
    "pos_combined = list(pos_combined)\n",
    "\n",
    "y = y[pos_combined].reshape(len(pos_combined))\n",
    "X = X[pos_combined, :].reshape((len(pos_combined), 3))\n",
    "\n",
    "# After process\n",
    "plt.hist(y)"
   ]
  },
  {
   "cell_type": "code",
   "execution_count": 11,
   "metadata": {},
   "outputs": [],
   "source": [
    "# Train-test sets split\n",
    "X_train, X_valid, y_train, y_valid = train_test_split(X, y, test_size=0.2, random_state=0)"
   ]
  },
  {
   "cell_type": "code",
   "execution_count": 18,
   "metadata": {},
   "outputs": [
    {
     "name": "stdout",
     "output_type": "stream",
     "text": [
      "Model: \"sequential_6\"\n",
      "_________________________________________________________________\n",
      "Layer (type)                 Output Shape              Param #   \n",
      "=================================================================\n",
      "lambda_6 (Lambda)            (None, 66, 200, 3)        0         \n",
      "_________________________________________________________________\n",
      "conv2d_7 (Conv2D)            (None, 31, 98, 24)        1824      \n",
      "_________________________________________________________________\n",
      "conv2d_8 (Conv2D)            (None, 14, 47, 36)        21636     \n",
      "_________________________________________________________________\n",
      "conv2d_9 (Conv2D)            (None, 5, 22, 48)         43248     \n",
      "_________________________________________________________________\n",
      "conv2d_10 (Conv2D)           (None, 3, 20, 64)         27712     \n",
      "_________________________________________________________________\n",
      "conv2d_11 (Conv2D)           (None, 1, 18, 64)         36928     \n",
      "_________________________________________________________________\n",
      "dropout (Dropout)            (None, 1, 18, 64)         0         \n",
      "_________________________________________________________________\n",
      "flatten (Flatten)            (None, 1152)              0         \n",
      "_________________________________________________________________\n",
      "dense (Dense)                (None, 100)               115300    \n",
      "_________________________________________________________________\n",
      "dropout_1 (Dropout)          (None, 100)               0         \n",
      "_________________________________________________________________\n",
      "dense_1 (Dense)              (None, 50)                5050      \n",
      "_________________________________________________________________\n",
      "dense_2 (Dense)              (None, 10)                510       \n",
      "_________________________________________________________________\n",
      "dense_3 (Dense)              (None, 1)                 11        \n",
      "=================================================================\n",
      "Total params: 252,219\n",
      "Trainable params: 252,219\n",
      "Non-trainable params: 0\n",
      "_________________________________________________________________\n"
     ]
    }
   ],
   "source": [
    "# Build model\n",
    "model = Sequential()\n",
    "model.add(Lambda(lambda x: x/127.5-1.0, input_shape=INPUT_SHAPE))\n",
    "model.add(Conv2D(24, (5, 5), activation='elu', strides=(2, 2)))\n",
    "model.add(Conv2D(36, (5, 5), activation='elu', strides=(2, 2)))\n",
    "model.add(Conv2D(48, (5, 5), activation='elu', strides=(2, 2)))\n",
    "model.add(Conv2D(64, (3, 3), activation='elu'))\n",
    "model.add(Conv2D(64, (3, 3), activation='elu'))\n",
    "model.add(Dropout(0.5))\n",
    "model.add(Flatten())\n",
    "model.add(Dense(100, activation='elu'))\n",
    "model.add(Dropout(0.5))\n",
    "model.add(Dense(50, activation='elu'))\n",
    "model.add(Dense(10, activation='elu'))\n",
    "model.add(Dense(1))\n",
    "model.summary()"
   ]
  },
  {
   "cell_type": "code",
   "execution_count": 27,
   "metadata": {},
   "outputs": [
    {
     "name": "stdout",
     "output_type": "stream",
     "text": [
      "Epoch 1/10\n",
      " 999/1000 [============================>.] - ETA: 0s - loss: 0.0596Epoch 1/10\n",
      "1000/1000 [==============================] - 116s 116ms/step - loss: 0.0597 - val_loss: 0.0584\n",
      "Epoch 2/10\n",
      " 999/1000 [============================>.] - ETA: 0s - loss: 0.0584Epoch 1/10\n",
      "1000/1000 [==============================] - 114s 114ms/step - loss: 0.0584 - val_loss: 0.0522\n",
      "Epoch 3/10\n",
      " 999/1000 [============================>.] - ETA: 0s - loss: 0.0567Epoch 1/10\n",
      "1000/1000 [==============================] - 116s 116ms/step - loss: 0.0567 - val_loss: 0.0525\n",
      "Epoch 4/10\n",
      " 999/1000 [============================>.] - ETA: 0s - loss: 0.0546Epoch 1/10\n",
      "1000/1000 [==============================] - 115s 115ms/step - loss: 0.0545 - val_loss: 0.0534\n",
      "Epoch 5/10\n",
      " 999/1000 [============================>.] - ETA: 0s - loss: 0.0550Epoch 1/10\n",
      "1000/1000 [==============================] - 117s 117ms/step - loss: 0.0550 - val_loss: 0.0541\n",
      "Epoch 6/10\n",
      " 999/1000 [============================>.] - ETA: 0s - loss: 0.0535Epoch 1/10\n",
      "1000/1000 [==============================] - 117s 117ms/step - loss: 0.0535 - val_loss: 0.0512\n",
      "Epoch 7/10\n",
      " 999/1000 [============================>.] - ETA: 0s - loss: 0.0521Epoch 1/10\n",
      "1000/1000 [==============================] - 119s 119ms/step - loss: 0.0521 - val_loss: 0.0544\n",
      "Epoch 8/10\n",
      " 999/1000 [============================>.] - ETA: 0s - loss: 0.0508Epoch 1/10\n",
      "1000/1000 [==============================] - 117s 117ms/step - loss: 0.0509 - val_loss: 0.0474\n",
      "Epoch 9/10\n",
      " 999/1000 [============================>.] - ETA: 0s - loss: 0.0518Epoch 1/10\n",
      "1000/1000 [==============================] - 121s 121ms/step - loss: 0.0518 - val_loss: 0.0540\n",
      "Epoch 10/10\n",
      " 999/1000 [============================>.] - ETA: 0s - loss: 0.0506Epoch 1/10\n",
      "1000/1000 [==============================] - 117s 117ms/step - loss: 0.0506 - val_loss: 0.0598\n"
     ]
    }
   ],
   "source": [
    "nb_epoch = 10\n",
    "samples_per_epoch = 1000\n",
    "batch_size = 32\n",
    "save_best_only = True\n",
    "learning_rate = 1e-4\n",
    "data_dir = 'c:/users/my laptop/desktop/deep learning with tf - keras/beta_simulator_windows'\n",
    "\n",
    "# Checkpoint \n",
    "checkpoint = ModelCheckpoint('model.h5',\n",
    "                                 monitor='val_loss',\n",
    "                                 verbose=0,\n",
    "                                 save_best_only=save_best_only,\n",
    "                                 mode='auto')\n",
    "\n",
    "# Use mean_squrared_error as loss function\n",
    "model.compile(loss='mean_squared_error', \n",
    "              optimizer=keras.optimizers.Adam(lr=learning_rate))\n",
    "\n",
    "# Train model\n",
    "H = model.fit_generator(batch_generator(data_dir, X_train, y_train, batch_size, True),\n",
    "                    steps_per_epoch = samples_per_epoch,\n",
    "                    epochs = nb_epoch,\n",
    "                    max_queue_size=1,\n",
    "                    validation_data=batch_generator(data_dir, X_valid, y_valid, batch_size, False),\n",
    "                    callbacks=[checkpoint],\n",
    "                    validation_steps = int(len(X_valid)/batch_size),\n",
    "                    verbose=1)"
   ]
  },
  {
   "cell_type": "code",
   "execution_count": null,
   "metadata": {},
   "outputs": [],
   "source": []
  }
 ],
 "metadata": {
  "kernelspec": {
   "display_name": "Python 3",
   "language": "python",
   "name": "python3"
  },
  "language_info": {
   "codemirror_mode": {
    "name": "ipython",
    "version": 3
   },
   "file_extension": ".py",
   "mimetype": "text/x-python",
   "name": "python",
   "nbconvert_exporter": "python",
   "pygments_lexer": "ipython3",
   "version": "3.7.6"
  }
 },
 "nbformat": 4,
 "nbformat_minor": 4
}
