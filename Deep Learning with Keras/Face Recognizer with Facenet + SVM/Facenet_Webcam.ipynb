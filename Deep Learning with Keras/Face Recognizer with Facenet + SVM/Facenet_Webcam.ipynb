{
 "cells": [
  {
   "cell_type": "code",
   "execution_count": 2,
   "metadata": {},
   "outputs": [],
   "source": [
    "import os\n",
    "import numpy as np\n",
    "import pandas as pd\n",
    "import matplotlib.pyplot as plt\n",
    "from imutils import paths\n",
    "import cv2\n",
    "from PIL import Image\n",
    "from sklearn.metrics import accuracy_score\n",
    "from sklearn.svm import SVC\n",
    "from tensorflow.keras.models import load_model\n",
    "from joblib import dump, load"
   ]
  },
  {
   "cell_type": "code",
   "execution_count": 3,
   "metadata": {},
   "outputs": [],
   "source": [
    "# load face detector model\n",
    "detector= cv2.CascadeClassifier(\"haarcascade_frontalface_default.xml\")"
   ]
  },
  {
   "cell_type": "code",
   "execution_count": 4,
   "metadata": {},
   "outputs": [
    {
     "name": "stdout",
     "output_type": "stream",
     "text": [
      "WARNING:tensorflow:From C:\\Users\\My Laptop\\AppData\\Roaming\\Python\\Python37\\site-packages\\tensorflow_core\\python\\ops\\resource_variable_ops.py:1630: calling BaseResourceVariable.__init__ (from tensorflow.python.ops.resource_variable_ops) with constraint is deprecated and will be removed in a future version.\n",
      "Instructions for updating:\n",
      "If using Keras pass *_constraint arguments to layers.\n",
      "WARNING:tensorflow:No training configuration found in save file: the model was *not* compiled. Compile it manually.\n"
     ]
    }
   ],
   "source": [
    "# load Facenet model\n",
    "facenet = load_model('facenet_keras.h5')"
   ]
  },
  {
   "cell_type": "code",
   "execution_count": 5,
   "metadata": {},
   "outputs": [],
   "source": [
    "# load pretrained svm model\n",
    "model = load('facenet_svm.joblib')"
   ]
  },
  {
   "cell_type": "code",
   "execution_count": 6,
   "metadata": {},
   "outputs": [],
   "source": [
    "URL = \"http://192.168.178.31:4747/video\"\n",
    "cap = cv2.VideoCapture(0)  # Capture webcam\n",
    "\n",
    "while (True):\n",
    "    ret, img = cap.read()\n",
    "    faces = detector.detectMultiScale(img, 1.3, 5)\n",
    "\n",
    "    for (x, y, w, h) in faces:\n",
    "        if  w  >  130 :   \n",
    "\n",
    "            # create a rectangle margin around the face\n",
    "            cv2.rectangle(img, (x, y), (x + w, y + h), (128, 128, 128), 1)  # Draw rectangle to main image\n",
    "\n",
    "            # Crop face\n",
    "            detected_face = img[int(y):int(y + h), int(x):int(x + w)]  # Crop detected face\n",
    "\n",
    "            try:\n",
    "                # Add magin if necessary\n",
    "                margin = 0\n",
    "                margin_x = int((w * margin) / 100);\n",
    "                margin_y = int((h * margin) / 100)\n",
    "                detected_face = img[int(y - margin_y):int(y + h + margin_y), int(x - margin_x):int(x + w + margin_x)]\n",
    "                \n",
    "            except:\n",
    "                print(\"detected face has no margin\")\n",
    "\n",
    "            try:\n",
    "                # detect faces -> resize to 160x160 -> normalize -> predict embeddings -> predict labels\n",
    "                detected_face = cv2.flip(detected_face, 1)\n",
    "                image = Image.fromarray(detected_face)\n",
    "                image = image.resize((160,160))\n",
    "                fs = np.asarray(image)\n",
    "                fs = fs.astype('float32')\n",
    "                mean, std = fs.mean(), fs.std()\n",
    "                fs = (fs - mean) / std\n",
    "                sample = np.expand_dims(fs, axis = 0)\n",
    "                embedding = facenet.predict(sample)\n",
    "                index = model.predict(embedding)\n",
    "                \n",
    "                names = ['Hi Jeska', 'Hi Huyen', 'Hello Mina', 'Hi Chung', 'Hello Nga', 'Hello Kha']\n",
    "                name = names[index[0]]\n",
    "                 \n",
    "                # Tick information frames\n",
    "                if (True):\n",
    "                    info_box_color = (46, 200, 255)\n",
    "                    triangle_cnt = np.array(\n",
    "                        [(x + int(w / 2), y), (x + int(w / 2) - 20, y - 20), (x + int(w / 2) + 20, y - 20)])\n",
    "                    cv2.drawContours(img, [triangle_cnt], 0, info_box_color, -1)\n",
    "                    cv2.rectangle(img, (x + int(w / 2) - 100, y - 20), (x + int(w / 2) + 100, y - 90), info_box_color,\n",
    "                                  cv2.FILLED)\n",
    "\n",
    "                    cv2.putText(img, name, (x + int(w / 2) - 80, y - 45), cv2.FONT_HERSHEY_SIMPLEX, 1, (0, 111, 255), 2)\n",
    "\n",
    "            except Exception as e:\n",
    "                print(\"exception\", str(e))\n",
    "\n",
    "    cv2.imshow('img', img)\n",
    "\n",
    "    if cv2.waitKey(1) & 0xFF == ord('q'):  # Press q to quit\n",
    "        break\n",
    "\n",
    "# terminate open cv \n",
    "cap.release()\n",
    "cv2.destroyAllWindows()"
   ]
  },
  {
   "cell_type": "code",
   "execution_count": null,
   "metadata": {},
   "outputs": [],
   "source": []
  }
 ],
 "metadata": {
  "kernelspec": {
   "display_name": "Python 3",
   "language": "python",
   "name": "python3"
  },
  "language_info": {
   "codemirror_mode": {
    "name": "ipython",
    "version": 3
   },
   "file_extension": ".py",
   "mimetype": "text/x-python",
   "name": "python",
   "nbconvert_exporter": "python",
   "pygments_lexer": "ipython3",
   "version": "3.7.6"
  }
 },
 "nbformat": 4,
 "nbformat_minor": 4
}
