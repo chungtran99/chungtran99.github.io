{
 "cells": [
  {
   "cell_type": "code",
   "execution_count": 4,
   "metadata": {},
   "outputs": [],
   "source": [
    "import numpy as np\n",
    "import pandas as pd\n",
    "import matplotlib.pyplot as plt\n",
    "import tensorflow\n",
    "from tensorflow.keras.models import Sequential\n",
    "from tensorflow.keras.layers import Conv2D, MaxPooling2D, AveragePooling2D\n",
    "from tensorflow.keras.layers import Dense, Activation, Dropout, Flatten\n",
    "from tensorflow.keras.preprocessing import image\n",
    "from tensorflow.keras.preprocessing.image import ImageDataGenerator"
   ]
  },
  {
   "cell_type": "code",
   "execution_count": 5,
   "metadata": {},
   "outputs": [],
   "source": [
    "# Declare some properties\n",
    "num_classes = 7\n",
    "batch_size = 256\n",
    "epochs = 50"
   ]
  },
  {
   "cell_type": "code",
   "execution_count": 7,
   "metadata": {},
   "outputs": [],
   "source": [
    "# Load data\n",
    "with open('fer2013/fer2013.csv') as f:\n",
    "    content = f.readlines()\n",
    "\n",
    "lines = np.array(content)\n",
    "num_of_instances = lines.size"
   ]
  },
  {
   "cell_type": "code",
   "execution_count": 10,
   "metadata": {},
   "outputs": [],
   "source": [
    "# Train test set split\n",
    "x_train, y_train, x_test, y_test = [], [], [], []\n",
    "\n",
    "for i in range(1, num_of_instances):\n",
    "    emotion, img, usage = lines[i].split(',')\n",
    "    val = img.split(' ')\n",
    "    pixels = np.array(val, 'float32')\n",
    "    emotion = tensorflow.keras.utils.to_categorical(emotion, num_classes)\n",
    "    \n",
    "    if 'Training' in usage:\n",
    "        y_train.append(emotion)\n",
    "        x_train.append(pixels)\n",
    "    elif 'PublicTest' in usage:\n",
    "        y_test.append(emotion)\n",
    "        x_test.append(pixels)"
   ]
  },
  {
   "cell_type": "code",
   "execution_count": 12,
   "metadata": {},
   "outputs": [
    {
     "name": "stdout",
     "output_type": "stream",
     "text": [
      "(28709, 2304)\n",
      "(28709, 7)\n",
      "(3589, 2304)\n",
      "(3589, 7)\n"
     ]
    }
   ],
   "source": [
    "# Convert to array\n",
    "x_train = np.array(x_train, 'float32')\n",
    "y_train = np.array(y_train, 'float32')\n",
    "x_test = np.array(x_test, 'float32')\n",
    "y_test = np.array(y_test, 'float32')\n",
    "x_train /= 255  # normalize inputs between [0, 1]\n",
    "x_test /= 255\n",
    "\n",
    "# Check shape\n",
    "print(x_train.shape)\n",
    "print(y_train.shape)\n",
    "print(x_test.shape)\n",
    "print(y_test.shape)"
   ]
  },
  {
   "cell_type": "code",
   "execution_count": 13,
   "metadata": {},
   "outputs": [],
   "source": [
    "# Convert pixels to shape 48x48x1\n",
    "x_train = x_train.reshape(x_train.shape[0], 48, 48, 1)\n",
    "x_test = x_test.reshape(x_test.shape[0], 48, 48, 1)"
   ]
  },
  {
   "cell_type": "code",
   "execution_count": 14,
   "metadata": {},
   "outputs": [
    {
     "name": "stdout",
     "output_type": "stream",
     "text": [
      "WARNING:tensorflow:From C:\\Users\\My Laptop\\AppData\\Roaming\\Python\\Python37\\site-packages\\tensorflow_core\\python\\ops\\resource_variable_ops.py:1630: calling BaseResourceVariable.__init__ (from tensorflow.python.ops.resource_variable_ops) with constraint is deprecated and will be removed in a future version.\n",
      "Instructions for updating:\n",
      "If using Keras pass *_constraint arguments to layers.\n"
     ]
    },
    {
     "name": "stderr",
     "output_type": "stream",
     "text": [
      "WARNING:tensorflow:From C:\\Users\\My Laptop\\AppData\\Roaming\\Python\\Python37\\site-packages\\tensorflow_core\\python\\ops\\resource_variable_ops.py:1630: calling BaseResourceVariable.__init__ (from tensorflow.python.ops.resource_variable_ops) with constraint is deprecated and will be removed in a future version.\n",
      "Instructions for updating:\n",
      "If using Keras pass *_constraint arguments to layers.\n"
     ]
    }
   ],
   "source": [
    "# Create model\n",
    "model = Sequential()\n",
    "model.add(Conv2D(64, (5, 5), activation = 'relu', input_shape=(48, 48, 1)))\n",
    "model.add(MaxPooling2D(pool_size = (5, 5), strides = (2, 2)))\n",
    "model.add(Conv2D(64, (3, 3), activation='relu'))\n",
    "model.add(Conv2D(64, (3, 3), activation='relu'))\n",
    "model.add(AveragePooling2D(pool_size=(3, 3), strides=(2, 2)))\n",
    "model.add(Conv2D(128, (3, 3), activation='relu'))\n",
    "model.add(Conv2D(128, (3, 3), activation='relu'))\n",
    "model.add(AveragePooling2D(pool_size=(3, 3), strides=(2, 2)))\n",
    "model.add(Flatten())\n",
    "model.add(Dense(1024, activation='relu'))\n",
    "model.add(Dropout(0.2))\n",
    "model.add(Dense(1024, activation='relu'))\n",
    "model.add(Dropout(0.2))\n",
    "model.add(Dense(num_classes, activation='softmax'))"
   ]
  },
  {
   "cell_type": "code",
   "execution_count": 15,
   "metadata": {},
   "outputs": [],
   "source": [
    "# Make batch generator\n",
    "gen = ImageDataGenerator()\n",
    "train_generator = gen.flow(x_train, y_train, batch_size = batch_size)\n",
    "\n",
    "# Model compile\n",
    "model.compile(loss = 'categorical_crossentropy',\n",
    "             optimizer = 'adam',\n",
    "             metrics = ['accuracy'])"
   ]
  },
  {
   "cell_type": "code",
   "execution_count": 18,
   "metadata": {},
   "outputs": [
    {
     "name": "stdout",
     "output_type": "stream",
     "text": [
      "Epoch 1/50\n",
      "256/256 [==============================] - 68s 266ms/step - loss: 1.8071 - acc: 0.2513\n",
      "Epoch 2/50\n",
      "256/256 [==============================] - 20s 80ms/step - loss: 1.6062 - acc: 0.3572\n",
      "Epoch 3/50\n",
      "256/256 [==============================] - 20s 80ms/step - loss: 1.4319 - acc: 0.4472\n",
      "Epoch 4/50\n",
      "256/256 [==============================] - 20s 80ms/step - loss: 1.3169 - acc: 0.4951\n",
      "Epoch 5/50\n",
      "256/256 [==============================] - 20s 79ms/step - loss: 1.2231 - acc: 0.5326\n",
      "Epoch 6/50\n",
      "256/256 [==============================] - 20s 78ms/step - loss: 1.1598 - acc: 0.5602\n",
      "Epoch 7/50\n",
      "256/256 [==============================] - 20s 79ms/step - loss: 1.0944 - acc: 0.5852\n",
      "Epoch 8/50\n",
      "256/256 [==============================] - 20s 78ms/step - loss: 1.0370 - acc: 0.6076\n",
      "Epoch 9/50\n",
      "256/256 [==============================] - 20s 78ms/step - loss: 0.9752 - acc: 0.6333\n",
      "Epoch 10/50\n",
      "256/256 [==============================] - 20s 77ms/step - loss: 0.9122 - acc: 0.6572\n",
      "Epoch 11/50\n",
      "256/256 [==============================] - 20s 78ms/step - loss: 0.8454 - acc: 0.6837\n",
      "Epoch 12/50\n",
      "256/256 [==============================] - 22s 85ms/step - loss: 0.7877 - acc: 0.7067\n",
      "Epoch 13/50\n",
      "256/256 [==============================] - 23s 88ms/step - loss: 0.7216 - acc: 0.7320 0s - loss: 0.7237 - a\n",
      "Epoch 14/50\n",
      "256/256 [==============================] - 22s 84ms/step - loss: 0.6598 - acc: 0.7568\n",
      "Epoch 15/50\n",
      "256/256 [==============================] - 21s 81ms/step - loss: 0.6054 - acc: 0.7774\n",
      "Epoch 16/50\n",
      "256/256 [==============================] - 20s 79ms/step - loss: 0.5363 - acc: 0.8017\n",
      "Epoch 17/50\n",
      "256/256 [==============================] - 20s 78ms/step - loss: 0.4913 - acc: 0.8199\n",
      "Epoch 18/50\n",
      "256/256 [==============================] - 20s 79ms/step - loss: 0.4294 - acc: 0.8426\n",
      "Epoch 19/50\n",
      "256/256 [==============================] - 20s 78ms/step - loss: 0.4010 - acc: 0.8532\n",
      "Epoch 20/50\n",
      "256/256 [==============================] - 20s 78ms/step - loss: 0.3630 - acc: 0.8688\n",
      "Epoch 21/50\n",
      "256/256 [==============================] - 21s 81ms/step - loss: 0.3386 - acc: 0.8766\n",
      "Epoch 22/50\n",
      "256/256 [==============================] - 20s 79ms/step - loss: 0.2786 - acc: 0.8986\n",
      "Epoch 23/50\n",
      "256/256 [==============================] - 20s 78ms/step - loss: 0.2700 - acc: 0.9026\n",
      "Epoch 24/50\n",
      "256/256 [==============================] - 20s 77ms/step - loss: 0.2369 - acc: 0.9157\n",
      "Epoch 25/50\n",
      "256/256 [==============================] - 19s 76ms/step - loss: 0.2282 - acc: 0.9180\n",
      "Epoch 26/50\n",
      "256/256 [==============================] - 20s 77ms/step - loss: 0.2070 - acc: 0.9247\n",
      "Epoch 27/50\n",
      "256/256 [==============================] - 20s 77ms/step - loss: 0.1816 - acc: 0.9345\n",
      "Epoch 28/50\n",
      "256/256 [==============================] - 20s 78ms/step - loss: 0.1636 - acc: 0.9408\n",
      "Epoch 29/50\n",
      "256/256 [==============================] - 20s 77ms/step - loss: 0.1718 - acc: 0.9394\n",
      "Epoch 30/50\n",
      "256/256 [==============================] - 21s 83ms/step - loss: 0.1450 - acc: 0.9484\n",
      "Epoch 31/50\n",
      "256/256 [==============================] - 20s 79ms/step - loss: 0.1290 - acc: 0.9547\n",
      "Epoch 32/50\n",
      "256/256 [==============================] - 20s 79ms/step - loss: 0.1519 - acc: 0.9469\n",
      "Epoch 33/50\n",
      "256/256 [==============================] - 20s 79ms/step - loss: 0.1131 - acc: 0.9601\n",
      "Epoch 34/50\n",
      "256/256 [==============================] - 21s 80ms/step - loss: 0.1176 - acc: 0.9603\n",
      "Epoch 35/50\n",
      "256/256 [==============================] - 20s 78ms/step - loss: 0.1017 - acc: 0.9652\n",
      "Epoch 36/50\n",
      "256/256 [==============================] - 20s 77ms/step - loss: 0.1203 - acc: 0.9576\n",
      "Epoch 37/50\n",
      "256/256 [==============================] - 19s 72ms/step - loss: 0.0890 - acc: 0.9692\n",
      "Epoch 38/50\n",
      "256/256 [==============================] - 16s 63ms/step - loss: 0.1051 - acc: 0.9639\n",
      "Epoch 39/50\n",
      "256/256 [==============================] - 16s 64ms/step - loss: 0.0926 - acc: 0.9681\n",
      "Epoch 40/50\n",
      "256/256 [==============================] - 16s 64ms/step - loss: 0.0973 - acc: 0.9650\n",
      "Epoch 41/50\n",
      "256/256 [==============================] - 17s 65ms/step - loss: 0.0741 - acc: 0.9746\n",
      "Epoch 42/50\n",
      "256/256 [==============================] - 17s 65ms/step - loss: 0.0996 - acc: 0.9658\n",
      "Epoch 43/50\n",
      "256/256 [==============================] - 17s 65ms/step - loss: 0.0772 - acc: 0.9739\n",
      "Epoch 44/50\n",
      "256/256 [==============================] - 16s 64ms/step - loss: 0.1040 - acc: 0.9641\n",
      "Epoch 45/50\n",
      "256/256 [==============================] - 17s 66ms/step - loss: 0.0823 - acc: 0.9721\n",
      "Epoch 46/50\n",
      "256/256 [==============================] - 17s 68ms/step - loss: 0.0817 - acc: 0.9715\n",
      "Epoch 47/50\n",
      "256/256 [==============================] - 17s 67ms/step - loss: 0.0675 - acc: 0.9772\n",
      "Epoch 48/50\n",
      "256/256 [==============================] - 16s 64ms/step - loss: 0.0621 - acc: 0.9790\n",
      "Epoch 49/50\n",
      "256/256 [==============================] - 17s 66ms/step - loss: 0.0663 - acc: 0.9770\n",
      "Epoch 50/50\n",
      "256/256 [==============================] - 17s 66ms/step - loss: 0.0849 - acc: 0.9708\n"
     ]
    },
    {
     "data": {
      "text/plain": [
       "<tensorflow.python.keras.callbacks.History at 0x26d5fac5c48>"
      ]
     },
     "execution_count": 18,
     "metadata": {},
     "output_type": "execute_result"
    }
   ],
   "source": [
    "# Train model\n",
    "model.fit_generator(train_generator, steps_per_epoch = (batch_size), epochs = epochs)"
   ]
  },
  {
   "cell_type": "code",
   "execution_count": 19,
   "metadata": {},
   "outputs": [],
   "source": [
    "# Save model\n",
    "model.save('emo_model.h5')"
   ]
  },
  {
   "cell_type": "code",
   "execution_count": 20,
   "metadata": {},
   "outputs": [
    {
     "name": "stdout",
     "output_type": "stream",
     "text": [
      "3589/3589 [==============================] - 1s 301us/sample - loss: 3.9421 - acc: 0.5631\n",
      "Test loss:  3.9420589937011856\n",
      "Test accuracy:  56.310951709747314\n"
     ]
    }
   ],
   "source": [
    "# Overall evaluation\n",
    "score = model.evaluate(x_test, y_test)\n",
    "\n",
    "print('Test loss: ', score[0])\n",
    "print('Test accuracy: ', 100*score[1])"
   ]
  },
  {
   "cell_type": "code",
   "execution_count": null,
   "metadata": {},
   "outputs": [],
   "source": []
  }
 ],
 "metadata": {
  "kernelspec": {
   "display_name": "Python 3",
   "language": "python",
   "name": "python3"
  },
  "language_info": {
   "codemirror_mode": {
    "name": "ipython",
    "version": 3
   },
   "file_extension": ".py",
   "mimetype": "text/x-python",
   "name": "python",
   "nbconvert_exporter": "python",
   "pygments_lexer": "ipython3",
   "version": "3.7.6"
  }
 },
 "nbformat": 4,
 "nbformat_minor": 4
}
