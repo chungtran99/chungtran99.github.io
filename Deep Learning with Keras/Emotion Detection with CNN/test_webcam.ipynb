{
 "cells": [
  {
   "cell_type": "code",
   "execution_count": 1,
   "metadata": {},
   "outputs": [],
   "source": [
    "import numpy as np\n",
    "import pandas as pd\n",
    "import matplotlib.pyplot as plt\n",
    "import tensorflow\n",
    "from tensorflow.keras.models import Sequential, load_model\n",
    "from tensorflow.keras.layers import Conv2D, MaxPooling2D, AveragePooling2D\n",
    "from tensorflow.keras.layers import Dense, Activation, Dropout, Flatten\n",
    "from tensorflow.keras.preprocessing import image\n",
    "from tensorflow.keras.preprocessing.image import ImageDataGenerator\n",
    "import cv2"
   ]
  },
  {
   "cell_type": "code",
   "execution_count": 2,
   "metadata": {},
   "outputs": [],
   "source": [
    "emotions = ['angry', 'disgust', 'fear', 'happy', 'sad', 'surprise', 'neutral']"
   ]
  },
  {
   "cell_type": "code",
   "execution_count": 3,
   "metadata": {},
   "outputs": [
    {
     "name": "stdout",
     "output_type": "stream",
     "text": [
      "WARNING:tensorflow:From C:\\Users\\My Laptop\\AppData\\Roaming\\Python\\Python37\\site-packages\\tensorflow_core\\python\\ops\\init_ops.py:97: calling GlorotUniform.__init__ (from tensorflow.python.ops.init_ops) with dtype is deprecated and will be removed in a future version.\n",
      "Instructions for updating:\n",
      "Call initializer instance with the dtype argument instead of passing it to the constructor\n",
      "WARNING:tensorflow:From C:\\Users\\My Laptop\\AppData\\Roaming\\Python\\Python37\\site-packages\\tensorflow_core\\python\\ops\\init_ops.py:97: calling Zeros.__init__ (from tensorflow.python.ops.init_ops) with dtype is deprecated and will be removed in a future version.\n",
      "Instructions for updating:\n",
      "Call initializer instance with the dtype argument instead of passing it to the constructor\n",
      "WARNING:tensorflow:From C:\\Users\\My Laptop\\AppData\\Roaming\\Python\\Python37\\site-packages\\tensorflow_core\\python\\ops\\resource_variable_ops.py:1630: calling BaseResourceVariable.__init__ (from tensorflow.python.ops.resource_variable_ops) with constraint is deprecated and will be removed in a future version.\n",
      "Instructions for updating:\n",
      "If using Keras pass *_constraint arguments to layers.\n"
     ]
    }
   ],
   "source": [
    "model = load_model('emo_model.h5')"
   ]
  },
  {
   "cell_type": "code",
   "execution_count": 4,
   "metadata": {},
   "outputs": [],
   "source": [
    "fontface = cv2.FONT_HERSHEY_SIMPLEX\n",
    "fontscale = 1\n",
    "fontcolor = (0, 255, 0)\n",
    "fontcolor1 = (0, 0, 255)"
   ]
  },
  {
   "cell_type": "code",
   "execution_count": 5,
   "metadata": {},
   "outputs": [],
   "source": [
    "cam = cv2.VideoCapture(0)\n",
    "\n",
    "while(True):\n",
    "    ret, img = cam.read()\n",
    "    img = cv2.flip(img, 1)\n",
    "    \n",
    "    centerH = img.shape[0] // 2\n",
    "    centerW = img.shape[1] // 2\n",
    "    halfsizeboxW = 100\n",
    "    halfsizeboxH = 200\n",
    "    \n",
    "    crop = img[centerH-halfsizeboxH:centerH+halfsizeboxH, centerW-halfsizeboxW:centerW+halfsizeboxW]\n",
    "    crop = cv2.cvtColor(crop, cv2.COLOR_BGR2GRAY)\n",
    "    crop = cv2.resize(crop, (48, 48))\n",
    "    \n",
    "    cv2.rectangle(img, (centerW-halfsizeboxW, centerH-halfsizeboxH),\n",
    "                 (centerW+halfsizeboxW,centerH+halfsizeboxH), (255,255,255),1)\n",
    "    \n",
    "    x = image.img_to_array(crop)\n",
    "    x = np.expand_dims(x, axis = 0)\n",
    "    x /= 255\n",
    "    \n",
    "    index = model.predict(x)\n",
    "    \n",
    "    emo = emotions[np.argmax(index)]\n",
    "    \n",
    "    cv2.putText(img, 'Emotion: ' + str(emo), (30, 30), fontface, fontscale, fontcolor, 2)\n",
    "    \n",
    "    cv2.imshow('Face',img)\n",
    "    \n",
    "    if cv2.waitKey(1)==ord('q'):\n",
    "        break;\n",
    "        \n",
    "cam.release()\n",
    "cv2.destroyAllWindows()"
   ]
  },
  {
   "cell_type": "code",
   "execution_count": null,
   "metadata": {},
   "outputs": [],
   "source": []
  }
 ],
 "metadata": {
  "kernelspec": {
   "display_name": "Python 3",
   "language": "python",
   "name": "python3"
  },
  "language_info": {
   "codemirror_mode": {
    "name": "ipython",
    "version": 3
   },
   "file_extension": ".py",
   "mimetype": "text/x-python",
   "name": "python",
   "nbconvert_exporter": "python",
   "pygments_lexer": "ipython3",
   "version": "3.7.6"
  }
 },
 "nbformat": 4,
 "nbformat_minor": 4
}
